{
 "cells": [
  {
   "cell_type": "code",
   "execution_count": 3,
   "id": "cc873c05",
   "metadata": {},
   "outputs": [],
   "source": [
    "import pandas as pd\n",
    "from sklearn.metrics import roc_auc_score\n",
    "from sklearn.metrics import roc_curve\n",
    "import matplotlib.pyplot as plt"
   ]
  },
  {
   "cell_type": "code",
   "execution_count": null,
   "id": "a0d2a6a5",
   "metadata": {},
   "outputs": [],
   "source": [
    "ad =pd.read_csv(r\"C:\\Users\\Amol purkar\\Desktop\\Imarticus\\Python\\adultKNN1.csv\")"
   ]
  },
  {
   "cell_type": "code",
   "execution_count": null,
   "id": "92569084",
   "metadata": {},
   "outputs": [],
   "source": [
    "from sklearn.preprocessing import LabelEncoder\n",
    "le=LabelEncoder()"
   ]
  },
  {
   "cell_type": "code",
   "execution_count": null,
   "id": "bc48e2f5",
   "metadata": {},
   "outputs": [],
   "source": [
    "ad[ad.select_dtypes(include=[\"object\"]).columns]=ad[ad.select_dtypes(include=[\"object\"]).columns].apply(le.fit_transform)"
   ]
  },
  {
   "cell_type": "code",
   "execution_count": null,
   "id": "631e7735",
   "metadata": {},
   "outputs": [],
   "source": [
    "from sklearn.model_selection import train_test_split\n",
    "ad_train,ad_test=train_test_split(ad,test_size=0.2)\n",
    "\n",
    "#df1=ad_train[ed_train.income==1]\n",
    "\n",
    "#ed_train= pd.concat([ed_train,df1,df1])\n"
   ]
  },
  {
   "cell_type": "code",
   "execution_count": null,
   "id": "8acdf184",
   "metadata": {},
   "outputs": [],
   "source": [
    "ad_train_x=ad_train.iloc[:,0:-1]\n",
    "ad_train_y=ad_train.iloc[:,-1]"
   ]
  },
  {
   "cell_type": "code",
   "execution_count": 4,
   "id": "74dccf34",
   "metadata": {},
   "outputs": [],
   "source": [
    "ad_test_x=ad_test.iloc[:,0:-1]\n",
    "ad_test_y=ad_test.iloc[:,-1]"
   ]
  },
  {
   "cell_type": "code",
   "execution_count": 10,
   "id": "caf6b8d6",
   "metadata": {},
   "outputs": [],
   "source": [
    "from sklearn.linear_model import LogisticRegression\n",
    "log_ad= LogisticRegression()"
   ]
  },
  {
   "cell_type": "code",
   "execution_count": 11,
   "id": "c1e6fa89",
   "metadata": {},
   "outputs": [
    {
     "data": {
      "text/plain": [
       "LogisticRegression()"
      ]
     },
     "execution_count": 11,
     "metadata": {},
     "output_type": "execute_result"
    }
   ],
   "source": [
    "log_ad.fit(ad_train_x,ad_train_y)"
   ]
  },
  {
   "cell_type": "code",
   "execution_count": 12,
   "id": "7c4dc5a1",
   "metadata": {},
   "outputs": [
    {
     "data": {
      "text/plain": [
       "array([0, 0, 0, ..., 0, 0, 0])"
      ]
     },
     "execution_count": 12,
     "metadata": {},
     "output_type": "execute_result"
    }
   ],
   "source": [
    "pred =log_ad.predict(ad_test_x)\n",
    "pred"
   ]
  },
  {
   "cell_type": "code",
   "execution_count": 13,
   "id": "aebf93c9",
   "metadata": {},
   "outputs": [
    {
     "data": {
      "text/plain": [
       "array([[6954,  428],\n",
       "       [1695,  692]], dtype=int64)"
      ]
     },
     "execution_count": 13,
     "metadata": {},
     "output_type": "execute_result"
    }
   ],
   "source": [
    "from sklearn.metrics import confusion_matrix\n",
    "tab_ad =confusion_matrix(ad_test_y,pred)\n",
    "tab_ad"
   ]
  },
  {
   "cell_type": "code",
   "execution_count": 14,
   "id": "7884b6ec",
   "metadata": {},
   "outputs": [
    {
     "data": {
      "text/plain": [
       "78.2679905824547"
      ]
     },
     "execution_count": 14,
     "metadata": {},
     "output_type": "execute_result"
    }
   ],
   "source": [
    "tab_ad.diagonal().sum()*100/tab_ad.sum()"
   ]
  },
  {
   "cell_type": "code",
   "execution_count": null,
   "id": "a84efcab",
   "metadata": {},
   "outputs": [],
   "source": [
    "from sklearn.metrics import accuracy_score\n",
    "\n",
    "accuracy_score(ad_test_y,pred)*100"
   ]
  },
  {
   "cell_type": "code",
   "execution_count": null,
   "id": "e1b453aa",
   "metadata": {},
   "outputs": [],
   "source": [
    "from sklearn.metrics import precision_score\n",
    "\n",
    "precision_score(ad_test_y,pred)"
   ]
  },
  {
   "cell_type": "code",
   "execution_count": null,
   "id": "c13d0c74",
   "metadata": {},
   "outputs": [],
   "source": [
    "from sklearn.metrics import recall_score\n",
    "\n",
    "recall_score(ad_test_y,pred)"
   ]
  },
  {
   "cell_type": "code",
   "execution_count": null,
   "id": "4f6e76fe",
   "metadata": {},
   "outputs": [],
   "source": [
    "from sklearn.metrics import f1_score\n",
    "\n",
    "f1_score(ad_test_y,pred)"
   ]
  },
  {
   "cell_type": "code",
   "execution_count": null,
   "id": "2078fc21",
   "metadata": {},
   "outputs": [],
   "source": [
    "pred_prob =log_ad.predict_proba(ad_test_x)\n",
    "pred_prob"
   ]
  },
  {
   "cell_type": "code",
   "execution_count": null,
   "id": "97841876",
   "metadata": {},
   "outputs": [],
   "source": [
    "roc_auc_score(ad_test_y,pred)\n",
    "\n",
    "a,b,c=roc_curve(ad_test_y,pred_prob[:,1])"
   ]
  },
  {
   "cell_type": "code",
   "execution_count": 17,
   "id": "53d648c6",
   "metadata": {},
   "outputs": [
    {
     "data": {
      "text/plain": [
       "Text(0.5, 0.5, 'AUROC is 0.5119 ')"
      ]
     },
     "execution_count": 17,
     "metadata": {},
     "output_type": "execute_result"
    },
    {
     "data": {
      "image/png": "[encoded data removed]",
      "text/plain": [
       "<Figure size 432x288 with 1 Axes>"
      ]
     },
     "metadata": {
      "needs_background": "light"
     },
     "output_type": "display_data"
    }
   ],
   "source": [
    "\n",
    "plt.plot(a,b)\n",
    "plt.xlabel(\"Fpr\")\n",
    "plt.ylabel(\"Tpr\")\n",
    "plt.title(\"AUROC on Churn patient BP\")\n",
    "plt.grid()\n",
    "plt.text(x= .5,y=.5 ,s=\"AUROC is 0.5119 \")"
   ]
  },
  {
   "cell_type": "code",
   "execution_count": null,
   "id": "3cd80eb9",
   "metadata": {},
   "outputs": [],
   "source": []
  }
 ],
 "metadata": {
  "kernelspec": {
   "display_name": "Python 3 (ipykernel)",
   "language": "python",
   "name": "python3"
  },
  "language_info": {
   "codemirror_mode": {
    "name": "ipython",
    "version": 3
   },
   "file_extension": ".py",
   "mimetype": "text/x-python",
   "name": "python",
   "nbconvert_exporter": "python",
   "pygments_lexer": "ipython3",
   "version": "3.9.12"
  }
 },
 "nbformat": 4,
 "nbformat_minor": 5
}
